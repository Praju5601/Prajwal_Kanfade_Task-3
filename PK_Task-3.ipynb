{
 "cells": [
  {
   "cell_type": "markdown",
   "id": "6602a186-35dd-42cf-b06c-002176ba65c7",
   "metadata": {},
   "source": [
    "# Task-3"
   ]
  },
  {
   "cell_type": "markdown",
   "id": "5f809be8-b6cf-46de-84b9-2cc7fe3f3657",
   "metadata": {},
   "source": [
    "* give 20 list of different data types.\r",
    "* \n",
    "give 15 unique methods example of list and explain "
   ]
  },
  {
   "cell_type": "markdown",
   "id": "67afc9ab-a0b1-4701-81f3-f4823ab1df83",
   "metadata": {},
   "source": [
    "## List Method"
   ]
  },
  {
   "cell_type": "markdown",
   "id": "75be6854-f45c-4303-9486-7ad5b3df8c45",
   "metadata": {},
   "source": [
    "## Append()"
   ]
  },
  {
   "cell_type": "markdown",
   "id": "5d27638e-402b-40cd-9b58-4d2eb5aad38f",
   "metadata": {},
   "source": [
    "* Appending a list in Python refers to adding an element to the end of an existing list. This is accomplished using the append() method, which modifies the list in place."
   ]
  },
  {
   "cell_type": "code",
   "execution_count": 20,
   "id": "1e90a26f-784a-40ae-9ee9-3ca66a68b43c",
   "metadata": {},
   "outputs": [
    {
     "name": "stdout",
     "output_type": "stream",
     "text": [
      "After append: [10, 20, 30, 40, 50, 60]\n"
     ]
    }
   ],
   "source": [
    "A1 = [10, 20, 30, 40, 50]\n",
    "A1.append(60)\n",
    "print(f\"After append: {A1}\")\n"
   ]
  },
  {
   "cell_type": "code",
   "execution_count": 28,
   "id": "06540503-a39c-4018-ad96-2c6ea562938e",
   "metadata": {},
   "outputs": [
    {
     "name": "stdout",
     "output_type": "stream",
     "text": [
      "After append: [10, 20, 30, 40, 50, 70]\n"
     ]
    }
   ],
   "source": [
    "A1 = [10, 20, 30, 40, 50]\n",
    "A1.append(70)\n",
    "print(f\"After append: {A1}\")"
   ]
  },
  {
   "cell_type": "markdown",
   "id": "2bcc5c52-9518-480c-bb36-d9fbbb8a118d",
   "metadata": {},
   "source": [
    "## Extend()"
   ]
  },
  {
   "cell_type": "markdown",
   "id": "ff4eccd0-9321-4947-9b40-8fb8fd201587",
   "metadata": {},
   "source": [
    "* Extends the list by appending elements from the iterable"
   ]
  },
  {
   "cell_type": "code",
   "execution_count": 33,
   "id": "ef5b8c63-a003-4dd5-9f14-994d9936fb47",
   "metadata": {},
   "outputs": [
    {
     "name": "stdout",
     "output_type": "stream",
     "text": [
      "After extend: [10, 20, 30, 40, 50, 70, 80]\n"
     ]
    }
   ],
   "source": [
    "A2 = [10, 20, 30, 40, 50]\n",
    "A2.extend([70, 80])\n",
    "print(f\"After extend: {A2}\")"
   ]
  },
  {
   "cell_type": "code",
   "execution_count": 35,
   "id": "ae47d5d4-8ad4-4feb-a525-0e86f4c342fb",
   "metadata": {},
   "outputs": [
    {
     "name": "stdout",
     "output_type": "stream",
     "text": [
      "After extend: [10, 50, 70, 80]\n"
     ]
    }
   ],
   "source": [
    "A2 = [10, 50]\n",
    "A2.extend([70, 80])\n",
    "print(f\"After extend: {A2}\")"
   ]
  },
  {
   "cell_type": "markdown",
   "id": "05fc8304-7859-4b1f-8362-d7055cf6de06",
   "metadata": {},
   "source": [
    "## Insert()"
   ]
  },
  {
   "cell_type": "markdown",
   "id": "3824be1d-1c20-4701-a98f-9318f1d3759a",
   "metadata": {},
   "source": [
    "* The insert() method in Python is used when you want to add an element to a list at a specific position, rather than at the end of the list. This can be useful in various scenarios where the order of elements matters or where you need to maintain a specific sequence of items."
   ]
  },
  {
   "cell_type": "code",
   "execution_count": 49,
   "id": "581361ed-5759-4a24-92da-dab77eef81ab",
   "metadata": {},
   "outputs": [
    {
     "name": "stdout",
     "output_type": "stream",
     "text": [
      "After insert: [10, 20, 25, 30, 40, 50]\n"
     ]
    }
   ],
   "source": [
    "A3 = [10, 20, 30, 40, 50]\n",
    "A3.insert(2, 25)\n",
    "print(f\"After insert: {A3}\")"
   ]
  },
  {
   "cell_type": "markdown",
   "id": "57b69e15-e70f-46fd-85d8-0122c1f04f59",
   "metadata": {},
   "source": [
    "## Remove()"
   ]
  },
  {
   "cell_type": "markdown",
   "id": "6f63a78c-377f-4584-ac79-43d2b2fa47ff",
   "metadata": {},
   "source": [
    "* Removes the first item from the list whose value is x"
   ]
  },
  {
   "cell_type": "code",
   "execution_count": 59,
   "id": "03f52977-a734-46c9-9a21-71fe9866c1c8",
   "metadata": {},
   "outputs": [
    {
     "name": "stdout",
     "output_type": "stream",
     "text": [
      "After remove: [10, 20, 40, 50]\n"
     ]
    }
   ],
   "source": [
    "A4 = [10, 20, 30, 40, 50]\n",
    "A4.remove(30)\n",
    "print(f\"After remove: {A4}\") "
   ]
  },
  {
   "cell_type": "code",
   "execution_count": 61,
   "id": "6f7beb03-85b6-453d-8938-4d876f39bd39",
   "metadata": {},
   "outputs": [
    {
     "name": "stdout",
     "output_type": "stream",
     "text": [
      "After remove: [10, 20, 30, 40, 50]\n"
     ]
    }
   ],
   "source": [
    "A4 = [10, 20, 25, 30, 40, 50]\n",
    "A4.remove(25)\n",
    "print(f\"After remove: {A4}\") "
   ]
  },
  {
   "cell_type": "markdown",
   "id": "2ed3b24a-7529-4987-b259-ef936cd27579",
   "metadata": {},
   "source": [
    "## Pop()"
   ]
  },
  {
   "cell_type": "markdown",
   "id": "b4936953-3063-4b0f-9ad7-d8245399dc77",
   "metadata": {},
   "source": [
    "* Removes and returns the item at the given position (last item if no position is specified)"
   ]
  },
  {
   "cell_type": "code",
   "execution_count": 70,
   "id": "938ae0e5-c81f-4559-aa4a-1c6d3dfdcf32",
   "metadata": {},
   "outputs": [
    {
     "data": {
      "text/plain": [
       "'banana'"
      ]
     },
     "execution_count": 70,
     "metadata": {},
     "output_type": "execute_result"
    }
   ],
   "source": [
    "A5 = ['apple', 'banana', 'cherry']\n",
    "A5.pop(1)"
   ]
  },
  {
   "cell_type": "code",
   "execution_count": 72,
   "id": "887d1667-48f7-49d8-9845-08c2a97ac4c0",
   "metadata": {},
   "outputs": [
    {
     "data": {
      "text/plain": [
       "'apple'"
      ]
     },
     "execution_count": 72,
     "metadata": {},
     "output_type": "execute_result"
    }
   ],
   "source": [
    "A5 = ['apple', 'banana', 'cherry']\n",
    "A5.pop(0)"
   ]
  },
  {
   "cell_type": "markdown",
   "id": "b9f1213a-000d-48ec-ba91-73c12d1e0eec",
   "metadata": {},
   "source": [
    "## Clear()"
   ]
  },
  {
   "cell_type": "markdown",
   "id": "f667a5da-97b2-473c-8dc1-0b9ad1ed25ce",
   "metadata": {},
   "source": [
    "* Removes all items from the list"
   ]
  },
  {
   "cell_type": "code",
   "execution_count": 79,
   "id": "e9395c18-5125-4183-8a44-19bb5d42f935",
   "metadata": {},
   "outputs": [],
   "source": [
    "A6 = ['apple', 'banana', 'cherry', 'orange']\n",
    "A6.clear()"
   ]
  },
  {
   "cell_type": "code",
   "execution_count": 81,
   "id": "5cf249bd-adcb-4756-ade5-9f01721ed4d9",
   "metadata": {},
   "outputs": [
    {
     "data": {
      "text/plain": [
       "[]"
      ]
     },
     "execution_count": 81,
     "metadata": {},
     "output_type": "execute_result"
    }
   ],
   "source": [
    "A6"
   ]
  },
  {
   "cell_type": "code",
   "execution_count": 85,
   "id": "92382918-c512-4aa4-9209-b90b1a11c979",
   "metadata": {},
   "outputs": [],
   "source": [
    "B6 = [12,'dada','daqqdq','qdqwq','eq']"
   ]
  },
  {
   "cell_type": "code",
   "execution_count": 89,
   "id": "0d052637-bd65-49a3-b028-e95da6f5d1af",
   "metadata": {},
   "outputs": [
    {
     "data": {
      "text/plain": [
       "[]"
      ]
     },
     "execution_count": 89,
     "metadata": {},
     "output_type": "execute_result"
    }
   ],
   "source": [
    "B6 = [12,'dada','daqqdq','qdqwq','eq']\n",
    "B6.clear()\n",
    "B6"
   ]
  },
  {
   "cell_type": "markdown",
   "id": "80356c15-342e-435e-b035-482979b3ba5f",
   "metadata": {},
   "source": [
    "## Index()"
   ]
  },
  {
   "cell_type": "markdown",
   "id": "71477118-d65a-402a-8abc-00025144eb84",
   "metadata": {},
   "source": [
    "* Returns the index of the first item with value x"
   ]
  },
  {
   "cell_type": "code",
   "execution_count": 94,
   "id": "382ac226-a7cf-4a4c-a31a-0554d6b48a52",
   "metadata": {},
   "outputs": [],
   "source": [
    "fruits = ['apple', 'banana', 'cherry']\n",
    "x = fruits.index(\"cherry\")"
   ]
  },
  {
   "cell_type": "code",
   "execution_count": 96,
   "id": "584ef411-1a11-4877-8bf2-d4049e986dae",
   "metadata": {},
   "outputs": [
    {
     "data": {
      "text/plain": [
       "2"
      ]
     },
     "execution_count": 96,
     "metadata": {},
     "output_type": "execute_result"
    }
   ],
   "source": [
    "x"
   ]
  },
  {
   "cell_type": "code",
   "execution_count": 98,
   "id": "00dc60e2-36d6-4914-bf96-98e93423330b",
   "metadata": {},
   "outputs": [],
   "source": [
    "X1 = [12,'dada','daqqdq','qdqwq','eq']"
   ]
  },
  {
   "cell_type": "code",
   "execution_count": 100,
   "id": "b206e726-0f51-4fa3-83bb-a7142cc2364c",
   "metadata": {},
   "outputs": [],
   "source": [
    "X2 = X1.index('eq')"
   ]
  },
  {
   "cell_type": "code",
   "execution_count": 102,
   "id": "527dadf5-7877-48c4-8398-cc2346105e11",
   "metadata": {},
   "outputs": [
    {
     "data": {
      "text/plain": [
       "4"
      ]
     },
     "execution_count": 102,
     "metadata": {},
     "output_type": "execute_result"
    }
   ],
   "source": [
    "X2"
   ]
  },
  {
   "cell_type": "markdown",
   "id": "4eabe26c-5ae3-4b74-a6d8-7adf13cbb81d",
   "metadata": {},
   "source": [
    "## Count()"
   ]
  },
  {
   "cell_type": "markdown",
   "id": "ddcc5cf5-3db3-41d3-9676-8d667f6bce7c",
   "metadata": {},
   "source": [
    "* Returns the number of times x appears in the list"
   ]
  },
  {
   "cell_type": "code",
   "execution_count": 107,
   "id": "19e290ff-e93c-4e82-8184-24222425a5e0",
   "metadata": {},
   "outputs": [
    {
     "name": "stdout",
     "output_type": "stream",
     "text": [
      "Count of 20: 1\n"
     ]
    }
   ],
   "source": [
    "C1 = [10,20,30,40,50]\n",
    "C1 = C1.count(20)\n",
    "print(f\"Count of 20: {C1}\") "
   ]
  },
  {
   "cell_type": "code",
   "execution_count": 121,
   "id": "72366e0d-782a-4089-bab8-8d56571b91f3",
   "metadata": {},
   "outputs": [
    {
     "data": {
      "text/plain": [
       "1"
      ]
     },
     "execution_count": 121,
     "metadata": {},
     "output_type": "execute_result"
    }
   ],
   "source": [
    "fruits = ['apple', 'banana', 'cherry']\n",
    "C2 = fruits.count('banana')\n",
    "C2"
   ]
  },
  {
   "cell_type": "markdown",
   "id": "5b44cf12-f16d-4176-9154-15958652e6ea",
   "metadata": {},
   "source": [
    "## Sort()"
   ]
  },
  {
   "cell_type": "markdown",
   "id": "907cfebf-9aa2-47c0-8d40-1a3ac615e1e5",
   "metadata": {},
   "source": [
    "* Sorts the items of the list in place"
   ]
  },
  {
   "cell_type": "code",
   "execution_count": 126,
   "id": "dc9264b2-1092-467d-8e89-9671353d68db",
   "metadata": {},
   "outputs": [],
   "source": [
    "cars = ['Ford', 'BMW', 'Volvo']\n",
    "cars.sort()"
   ]
  },
  {
   "cell_type": "code",
   "execution_count": 128,
   "id": "7399b63b-65ea-4d45-856f-3d2d49a11985",
   "metadata": {},
   "outputs": [
    {
     "data": {
      "text/plain": [
       "['BMW', 'Ford', 'Volvo']"
      ]
     },
     "execution_count": 128,
     "metadata": {},
     "output_type": "execute_result"
    }
   ],
   "source": [
    "cars"
   ]
  },
  {
   "cell_type": "markdown",
   "id": "9c8a3859-0989-4c9a-88c4-8e00927fc269",
   "metadata": {},
   "source": [
    "## Reverse()"
   ]
  },
  {
   "cell_type": "markdown",
   "id": "0474845c-3e64-4007-a375-2dbc4b50ff50",
   "metadata": {},
   "source": [
    "* Reverses the elements of the list in place"
   ]
  },
  {
   "cell_type": "code",
   "execution_count": 137,
   "id": "3ee4f56c-fe7c-4c18-8c85-cc8fa9dfc771",
   "metadata": {},
   "outputs": [
    {
     "data": {
      "text/plain": [
       "['cherry', 'banana', 'apple']"
      ]
     },
     "execution_count": 137,
     "metadata": {},
     "output_type": "execute_result"
    }
   ],
   "source": [
    "R1 = ['apple', 'banana', 'cherry']\n",
    "R1.reverse()\n",
    "R1"
   ]
  },
  {
   "cell_type": "code",
   "execution_count": 139,
   "id": "2106fa9b-6fc1-4500-9ca1-08bce8da11e5",
   "metadata": {},
   "outputs": [],
   "source": [
    "cars = ['Ford', 'BMW', 'Volvo']\n",
    "cars.reverse()"
   ]
  },
  {
   "cell_type": "code",
   "execution_count": 141,
   "id": "94394d4d-db47-42f5-96cd-0c6fd696566c",
   "metadata": {},
   "outputs": [
    {
     "data": {
      "text/plain": [
       "['Volvo', 'BMW', 'Ford']"
      ]
     },
     "execution_count": 141,
     "metadata": {},
     "output_type": "execute_result"
    }
   ],
   "source": [
    "cars"
   ]
  },
  {
   "cell_type": "markdown",
   "id": "de248e6e-86d7-429c-876b-c93a9a35a23a",
   "metadata": {},
   "source": [
    "## Copy()"
   ]
  },
  {
   "cell_type": "markdown",
   "id": "dcbc6509-4982-47e8-ac94-7f3bd89c39fc",
   "metadata": {},
   "source": [
    "* Returns a shallow copy of the list"
   ]
  },
  {
   "cell_type": "code",
   "execution_count": 154,
   "id": "fafe463d-e979-4bd1-8731-218b4425d2bc",
   "metadata": {},
   "outputs": [],
   "source": [
    "C2 = ['apple', 'banana', 'cherry', 'orange']\n",
    "x = C2.copy()"
   ]
  },
  {
   "cell_type": "code",
   "execution_count": 156,
   "id": "5e49e333-2615-4393-ad84-576938b80223",
   "metadata": {},
   "outputs": [
    {
     "data": {
      "text/plain": [
       "['apple', 'banana', 'cherry', 'orange']"
      ]
     },
     "execution_count": 156,
     "metadata": {},
     "output_type": "execute_result"
    }
   ],
   "source": [
    "C2"
   ]
  },
  {
   "cell_type": "code",
   "execution_count": 160,
   "id": "f59b9c4b-8d8b-4920-841d-13c23d1a8ae6",
   "metadata": {},
   "outputs": [
    {
     "data": {
      "text/plain": [
       "['Ford', 'BMW', 'Volvo']"
      ]
     },
     "execution_count": 160,
     "metadata": {},
     "output_type": "execute_result"
    }
   ],
   "source": [
    "cars = ['Ford', 'BMW', 'Volvo']\n",
    "cars.copy()"
   ]
  },
  {
   "cell_type": "markdown",
   "id": "937ccce9-66e8-4ac2-822b-bc6459789131",
   "metadata": {},
   "source": [
    "# Lists Definition and Characteristics"
   ]
  },
  {
   "cell_type": "markdown",
   "id": "5a37c420-58a5-4c83-a705-62e87e0e5fa3",
   "metadata": {},
   "source": [
    "* Ordered: Elements in a list have a specific order, and this order is maintained. This means that the order in which elements are added to the list is the order in which they are stored."
   ]
  },
  {
   "cell_type": "markdown",
   "id": "9da2922c-4fea-4b90-94a0-54ad32ebd9d8",
   "metadata": {},
   "source": [
    "* Mutable: Lists can be modified after their creation. You can change, add, or remove elements at any time."
   ]
  },
  {
   "cell_type": "markdown",
   "id": "4701c651-802c-42e8-81cc-b33c4ed69e45",
   "metadata": {},
   "source": [
    "* Heterogeneous: A list can contain elements of different data types. For example, a single list can have integers, strings, floats, and even other lists."
   ]
  },
  {
   "cell_type": "markdown",
   "id": "c2eb0958-7e84-4c0f-a057-c72d2a1782b0",
   "metadata": {},
   "source": [
    "* Dynamic: Lists can grow and shrink as needed. You don't need to declare the size of a list at the time of its creation."
   ]
  },
  {
   "cell_type": "raw",
   "id": "eb6e0e3b-da18-4808-a250-018c570615da",
   "metadata": {},
   "source": [
    "empty_list = []\n",
    "int_list = [1, 2, 3, 4]\n",
    "mixed_list = [1, \"Hello\", 3.14, True]\n",
    "nested_list = [[1, 2], [3, 4], [5, 6]]"
   ]
  },
  {
   "cell_type": "code",
   "execution_count": 176,
   "id": "9173adaa-8509-4dd5-905a-5471f0d65cb9",
   "metadata": {},
   "outputs": [
    {
     "name": "stdout",
     "output_type": "stream",
     "text": [
      "a\n",
      "c\n"
     ]
    }
   ],
   "source": [
    "my_list = ['a', 'b', 'c', 'd']\n",
    "print(my_list[0]) \n",
    "print(my_list[2]) "
   ]
  },
  {
   "cell_type": "code",
   "execution_count": 178,
   "id": "89c90c0d-f990-4999-9c07-f4480667f41a",
   "metadata": {},
   "outputs": [
    {
     "name": "stdout",
     "output_type": "stream",
     "text": [
      "d\n"
     ]
    }
   ],
   "source": [
    "print(my_list[-1])"
   ]
  },
  {
   "cell_type": "code",
   "execution_count": 180,
   "id": "4467afc8-592e-4379-94d0-9dcc0cfd1a2b",
   "metadata": {},
   "outputs": [],
   "source": [
    "P1 = [ 12,22,13,122,34,43,45,364,244]\n"
   ]
  },
  {
   "cell_type": "code",
   "execution_count": 182,
   "id": "e1506764-a355-499e-be19-3a64855dde16",
   "metadata": {},
   "outputs": [
    {
     "data": {
      "text/plain": [
       "[12, 22, 13, 122, 34, 43, 45, 364, 244]"
      ]
     },
     "execution_count": 182,
     "metadata": {},
     "output_type": "execute_result"
    }
   ],
   "source": [
    "P1"
   ]
  },
  {
   "cell_type": "code",
   "execution_count": 184,
   "id": "20df7065-6363-44c8-b1a8-4aecb1b2c3ae",
   "metadata": {},
   "outputs": [
    {
     "data": {
      "text/plain": [
       "34"
      ]
     },
     "execution_count": 184,
     "metadata": {},
     "output_type": "execute_result"
    }
   ],
   "source": [
    "P1[4]"
   ]
  },
  {
   "cell_type": "code",
   "execution_count": 188,
   "id": "3c27cd7f-8b31-4d34-bf3b-7d7b5417a501",
   "metadata": {},
   "outputs": [
    {
     "data": {
      "text/plain": [
       "[12, 22, 13, 122, 34, 43, 45, 364, 244]"
      ]
     },
     "execution_count": 188,
     "metadata": {},
     "output_type": "execute_result"
    }
   ],
   "source": [
    "P1.copy()"
   ]
  },
  {
   "cell_type": "code",
   "execution_count": 190,
   "id": "77d319df-a87c-4009-8fab-c02b7e5b70e2",
   "metadata": {},
   "outputs": [
    {
     "data": {
      "text/plain": [
       "12"
      ]
     },
     "execution_count": 190,
     "metadata": {},
     "output_type": "execute_result"
    }
   ],
   "source": [
    "min(P1)"
   ]
  },
  {
   "cell_type": "code",
   "execution_count": 194,
   "id": "923291f1-1ff1-4052-ad67-427e59633a91",
   "metadata": {},
   "outputs": [
    {
     "data": {
      "text/plain": [
       "364"
      ]
     },
     "execution_count": 194,
     "metadata": {},
     "output_type": "execute_result"
    }
   ],
   "source": [
    "max(P1)"
   ]
  },
  {
   "cell_type": "code",
   "execution_count": 196,
   "id": "b3ff06d0-9f1c-4b57-8a48-4aa4594e6908",
   "metadata": {},
   "outputs": [
    {
     "data": {
      "text/plain": [
       "9"
      ]
     },
     "execution_count": 196,
     "metadata": {},
     "output_type": "execute_result"
    }
   ],
   "source": [
    "len(P1)"
   ]
  },
  {
   "cell_type": "code",
   "execution_count": 198,
   "id": "f4f684f9-53bb-4ce8-ade9-a70739b5f29e",
   "metadata": {},
   "outputs": [
    {
     "data": {
      "text/plain": [
       "899"
      ]
     },
     "execution_count": 198,
     "metadata": {},
     "output_type": "execute_result"
    }
   ],
   "source": [
    "sum(P1)"
   ]
  },
  {
   "cell_type": "code",
   "execution_count": 200,
   "id": "ad1bfc2b-b913-46bb-a36c-a2ba8a238561",
   "metadata": {},
   "outputs": [
    {
     "data": {
      "text/plain": [
       "[22]"
      ]
     },
     "execution_count": 200,
     "metadata": {},
     "output_type": "execute_result"
    }
   ],
   "source": [
    "P1[1:3:6]"
   ]
  },
  {
   "cell_type": "code",
   "execution_count": 202,
   "id": "02d4da22-bb89-44d8-a607-9a26ef4a6267",
   "metadata": {},
   "outputs": [],
   "source": [
    "P2 = [ 'I','Love','You']"
   ]
  },
  {
   "cell_type": "code",
   "execution_count": 204,
   "id": "7f17fed0-5f60-4d4b-a468-e22c4034ed04",
   "metadata": {},
   "outputs": [
    {
     "data": {
      "text/plain": [
       "['I', 'Love', 'You']"
      ]
     },
     "execution_count": 204,
     "metadata": {},
     "output_type": "execute_result"
    }
   ],
   "source": [
    "P2"
   ]
  },
  {
   "cell_type": "code",
   "execution_count": 208,
   "id": "9eb22e22-08f8-4295-a0c9-94505ca29c53",
   "metadata": {},
   "outputs": [
    {
     "name": "stdout",
     "output_type": "stream",
     "text": [
      "I Love You\n"
     ]
    }
   ],
   "source": [
    "print(\" \".join(P2))"
   ]
  },
  {
   "cell_type": "code",
   "execution_count": 210,
   "id": "53a63a24-f01c-4405-9561-78af649d06a7",
   "metadata": {},
   "outputs": [],
   "source": [
    "P2.append('Too')"
   ]
  },
  {
   "cell_type": "code",
   "execution_count": 212,
   "id": "f39248f5-8b53-4ebf-b703-56cd6e1db095",
   "metadata": {},
   "outputs": [
    {
     "data": {
      "text/plain": [
       "['I', 'Love', 'You', 'Too']"
      ]
     },
     "execution_count": 212,
     "metadata": {},
     "output_type": "execute_result"
    }
   ],
   "source": [
    "P2"
   ]
  },
  {
   "cell_type": "code",
   "execution_count": 228,
   "id": "0ce73976-b88c-49c0-b3fc-a34c927d21dd",
   "metadata": {},
   "outputs": [
    {
     "data": {
      "text/plain": [
       "'Too'"
      ]
     },
     "execution_count": 228,
     "metadata": {},
     "output_type": "execute_result"
    }
   ],
   "source": [
    "P2[-1]"
   ]
  },
  {
   "cell_type": "code",
   "execution_count": 234,
   "id": "0f67c21b-3cac-439f-890d-daff5ca0aa08",
   "metadata": {},
   "outputs": [
    {
     "data": {
      "text/plain": [
       "['I', 'Love', 'Welcome', 'You', 'Yeahhhh', 'Yeahhhh', 'Yeahhhh', 'Too']"
      ]
     },
     "execution_count": 234,
     "metadata": {},
     "output_type": "execute_result"
    }
   ],
   "source": [
    "P2"
   ]
  },
  {
   "cell_type": "code",
   "execution_count": 236,
   "id": "137db3d9-88ae-4c97-90f4-75ed260ea53c",
   "metadata": {},
   "outputs": [],
   "source": [
    "P2.insert(5,'Yeahhhh')"
   ]
  },
  {
   "cell_type": "code",
   "execution_count": 238,
   "id": "0866c8db-479f-441c-b61b-9b1bfb7a2d96",
   "metadata": {},
   "outputs": [
    {
     "data": {
      "text/plain": [
       "['I',\n",
       " 'Love',\n",
       " 'Welcome',\n",
       " 'You',\n",
       " 'Yeahhhh',\n",
       " 'Yeahhhh',\n",
       " 'Yeahhhh',\n",
       " 'Yeahhhh',\n",
       " 'Too']"
      ]
     },
     "execution_count": 238,
     "metadata": {},
     "output_type": "execute_result"
    }
   ],
   "source": [
    "P2"
   ]
  },
  {
   "cell_type": "code",
   "execution_count": 246,
   "id": "c54059df-633f-4a20-b760-a34a11907fd1",
   "metadata": {},
   "outputs": [
    {
     "data": {
      "text/plain": [
       "['I', 'Love', 'Welcome', 'You', 'Yeahhhh', 'Yeahhhh']"
      ]
     },
     "execution_count": 246,
     "metadata": {},
     "output_type": "execute_result"
    }
   ],
   "source": [
    "P2[0:-3]"
   ]
  },
  {
   "cell_type": "code",
   "execution_count": 248,
   "id": "e00e10b3-2482-4e4b-a5e1-dfcfa9af5f2c",
   "metadata": {},
   "outputs": [
    {
     "data": {
      "text/plain": [
       "[12, 22, 13, 122, 34, 43, 45, 364, 244]"
      ]
     },
     "execution_count": 248,
     "metadata": {},
     "output_type": "execute_result"
    }
   ],
   "source": [
    "P1"
   ]
  },
  {
   "cell_type": "code",
   "execution_count": 250,
   "id": "75cf2d56-9b6f-449e-bd08-0a84ed079e94",
   "metadata": {},
   "outputs": [],
   "source": [
    "P1.remove(364)"
   ]
  },
  {
   "cell_type": "code",
   "execution_count": 252,
   "id": "4cc136fa-85ac-479d-a0cf-6e8479d8a75e",
   "metadata": {},
   "outputs": [
    {
     "data": {
      "text/plain": [
       "[12, 22, 13, 122, 34, 43, 45, 244]"
      ]
     },
     "execution_count": 252,
     "metadata": {},
     "output_type": "execute_result"
    }
   ],
   "source": [
    "P1"
   ]
  },
  {
   "cell_type": "code",
   "execution_count": 258,
   "id": "d129ed84-fedc-447e-9682-c436cc39fd23",
   "metadata": {},
   "outputs": [],
   "source": [
    "P1.reverse()"
   ]
  },
  {
   "cell_type": "code",
   "execution_count": 260,
   "id": "873312f9-3ba6-4931-ac64-31f2f6053976",
   "metadata": {},
   "outputs": [
    {
     "data": {
      "text/plain": [
       "[244, 45, 43, 34, 122, 13, 22, 12]"
      ]
     },
     "execution_count": 260,
     "metadata": {},
     "output_type": "execute_result"
    }
   ],
   "source": [
    "P1"
   ]
  },
  {
   "cell_type": "markdown",
   "id": "06f3363a-8912-41e9-b241-17b5c6f6289b",
   "metadata": {},
   "source": [
    "# Tuple"
   ]
  },
  {
   "cell_type": "markdown",
   "id": "2d55e88d-f88e-4cce-b752-3c26b84e4217",
   "metadata": {},
   "source": [
    "* A tuple in Python is a built-in data structure that is very similar to a list. However, unlike lists, tuples are immutable, meaning that once a tuple is created, its elements cannot be modified, added, or removed. Tuples are used when the data should not be changed throughout the lifetime of the program."
   ]
  },
  {
   "cell_type": "code",
   "execution_count": 267,
   "id": "d9f5f3c8-1d97-4e61-98e6-eee82703a033",
   "metadata": {},
   "outputs": [],
   "source": [
    "T1 = (12,22,32,42,45,34,15,61)"
   ]
  },
  {
   "cell_type": "code",
   "execution_count": 269,
   "id": "7df27edd-7f8a-4bea-86ed-0412adebdb19",
   "metadata": {},
   "outputs": [
    {
     "data": {
      "text/plain": [
       "(12, 22, 32, 42, 45, 34, 15, 61)"
      ]
     },
     "execution_count": 269,
     "metadata": {},
     "output_type": "execute_result"
    }
   ],
   "source": [
    "T1"
   ]
  },
  {
   "cell_type": "code",
   "execution_count": 271,
   "id": "1c8f7d17-73f3-4e7b-9ffc-a86d4d5785c0",
   "metadata": {},
   "outputs": [
    {
     "data": {
      "text/plain": [
       "tuple"
      ]
     },
     "execution_count": 271,
     "metadata": {},
     "output_type": "execute_result"
    }
   ],
   "source": [
    "type(T1)"
   ]
  },
  {
   "cell_type": "code",
   "execution_count": 273,
   "id": "599e5c99-e01e-495c-b18d-f9194b1b48c2",
   "metadata": {},
   "outputs": [
    {
     "data": {
      "text/plain": [
       "(12, 22, 32, 42, 45, 34, 15)"
      ]
     },
     "execution_count": 273,
     "metadata": {},
     "output_type": "execute_result"
    }
   ],
   "source": [
    "T1[0:7]"
   ]
  },
  {
   "cell_type": "code",
   "execution_count": 275,
   "id": "305ef90e-0832-442b-912f-a13a9e54ee42",
   "metadata": {},
   "outputs": [
    {
     "data": {
      "text/plain": [
       "42"
      ]
     },
     "execution_count": 275,
     "metadata": {},
     "output_type": "execute_result"
    }
   ],
   "source": [
    "T1[3]"
   ]
  },
  {
   "cell_type": "code",
   "execution_count": 277,
   "id": "ca0a79be-65b1-44cd-8c80-edd46cc80679",
   "metadata": {},
   "outputs": [
    {
     "data": {
      "text/plain": [
       "15"
      ]
     },
     "execution_count": 277,
     "metadata": {},
     "output_type": "execute_result"
    }
   ],
   "source": [
    "T1[6]"
   ]
  },
  {
   "cell_type": "markdown",
   "id": "e30ddd4f-a22a-4e60-8375-281eaa2cb09d",
   "metadata": {},
   "source": [
    "### Count "
   ]
  },
  {
   "cell_type": "code",
   "execution_count": 280,
   "id": "a248959c-25a9-4a89-b717-a04b1f3aefee",
   "metadata": {},
   "outputs": [],
   "source": [
    "T2 = (12,22,32,42,45,34,15,61)"
   ]
  },
  {
   "cell_type": "code",
   "execution_count": 282,
   "id": "5f8c1d02-7946-4788-af02-cb5d1f331f4a",
   "metadata": {},
   "outputs": [
    {
     "data": {
      "text/plain": [
       "(12, 22, 32, 42, 45, 34, 15, 61)"
      ]
     },
     "execution_count": 282,
     "metadata": {},
     "output_type": "execute_result"
    }
   ],
   "source": [
    "T2"
   ]
  },
  {
   "cell_type": "code",
   "execution_count": 300,
   "id": "49a688b0-30e9-4ef4-8ac1-f1502ed53392",
   "metadata": {},
   "outputs": [],
   "source": [
    "T = T2.count(2)"
   ]
  },
  {
   "cell_type": "code",
   "execution_count": 302,
   "id": "75eb904b-83e0-48ff-8a51-aece19281f71",
   "metadata": {},
   "outputs": [
    {
     "data": {
      "text/plain": [
       "0"
      ]
     },
     "execution_count": 302,
     "metadata": {},
     "output_type": "execute_result"
    }
   ],
   "source": [
    "T"
   ]
  },
  {
   "cell_type": "code",
   "execution_count": 305,
   "id": "7c9c3c04-a38f-47fc-82f3-d26a706356d3",
   "metadata": {},
   "outputs": [
    {
     "name": "stdout",
     "output_type": "stream",
     "text": [
      "('apple', 'banana', 'cherry')\n"
     ]
    }
   ],
   "source": [
    "T3 = (\"apple\", \"banana\", \"cherry\")\n",
    "print(T3)"
   ]
  },
  {
   "cell_type": "code",
   "execution_count": 307,
   "id": "d43adde0-101c-4c91-ab7e-3a61a9e5829b",
   "metadata": {},
   "outputs": [],
   "source": [
    "T4= (9 , \"Nagpur\" , False , {\"key2\" : \"val11\"})"
   ]
  },
  {
   "cell_type": "code",
   "execution_count": 309,
   "id": "ad270326-e76a-4068-aa5e-6d75bfa5d8d5",
   "metadata": {},
   "outputs": [
    {
     "data": {
      "text/plain": [
       "(9, 'Nagpur', False, {'key2': 'val11'})"
      ]
     },
     "execution_count": 309,
     "metadata": {},
     "output_type": "execute_result"
    }
   ],
   "source": [
    "T4"
   ]
  },
  {
   "cell_type": "code",
   "execution_count": 311,
   "id": "e3363a61-0b7b-4e98-8a89-3f7acc456200",
   "metadata": {},
   "outputs": [
    {
     "name": "stdout",
     "output_type": "stream",
     "text": [
      "3\n"
     ]
    }
   ],
   "source": [
    "T3 = (\"apple\", \"banana\", \"cherry\")\n",
    "print(len(T3))"
   ]
  },
  {
   "cell_type": "code",
   "execution_count": 313,
   "id": "e9adbbbd-414c-43fe-9b50-42fb28f9e26c",
   "metadata": {},
   "outputs": [],
   "source": [
    "T5 = (76,28,39,10,[17, 48 , 59])\n"
   ]
  },
  {
   "cell_type": "code",
   "execution_count": 315,
   "id": "9ce76ebf-f2a0-4470-bdb2-84c902ecaee2",
   "metadata": {},
   "outputs": [
    {
     "data": {
      "text/plain": [
       "(76, 28, 39, 10, [17, 48, 59])"
      ]
     },
     "execution_count": 315,
     "metadata": {},
     "output_type": "execute_result"
    }
   ],
   "source": [
    "T5"
   ]
  },
  {
   "cell_type": "code",
   "execution_count": 317,
   "id": "b3e080f3-e9e3-46a4-a2c8-8ede10b97e6a",
   "metadata": {},
   "outputs": [
    {
     "name": "stdout",
     "output_type": "stream",
     "text": [
      "<class 'tuple'>\n"
     ]
    }
   ],
   "source": [
    "T3 = (\"apple\",)\n",
    "print(type(T3))"
   ]
  },
  {
   "cell_type": "code",
   "execution_count": 319,
   "id": "8e17506e-5fd8-4db3-b962-7110c3ffc7cb",
   "metadata": {},
   "outputs": [
    {
     "name": "stdout",
     "output_type": "stream",
     "text": [
      "<class 'str'>\n"
     ]
    }
   ],
   "source": [
    "T3 = (\"apple\")\n",
    "print(type(T3))"
   ]
  },
  {
   "cell_type": "code",
   "execution_count": 321,
   "id": "52439cbc-8a92-447d-81aa-39fc7b072546",
   "metadata": {},
   "outputs": [
    {
     "name": "stdout",
     "output_type": "stream",
     "text": [
      "(0, 1, 2, 3, 4, 5, 6)\n"
     ]
    }
   ],
   "source": [
    "numbers = (0,1,2,3,4,5,6)\n",
    "print(numbers)"
   ]
  },
  {
   "cell_type": "code",
   "execution_count": 327,
   "id": "3180ac41-0d4b-4dd4-abfd-91a18b665184",
   "metadata": {},
   "outputs": [
    {
     "name": "stdout",
     "output_type": "stream",
     "text": [
      "Total Items: 3\n"
     ]
    }
   ],
   "source": [
    "T8= ('Audi', 'Kia', 'Hyundai')\n",
    "print('Total Items:', len(T8))"
   ]
  },
  {
   "cell_type": "code",
   "execution_count": 329,
   "id": "859137ae-41d8-4278-b19a-3979d021207a",
   "metadata": {},
   "outputs": [],
   "source": [
    "T9 = ('Raisoni','YCCE','SBJain','Priyadarshani' )"
   ]
  },
  {
   "cell_type": "code",
   "execution_count": 331,
   "id": "8e1c5259-6e9e-485b-93d6-8f718ee66663",
   "metadata": {},
   "outputs": [
    {
     "data": {
      "text/plain": [
       "('Raisoni', 'YCCE', 'SBJain', 'Priyadarshani')"
      ]
     },
     "execution_count": 331,
     "metadata": {},
     "output_type": "execute_result"
    }
   ],
   "source": [
    "T9"
   ]
  },
  {
   "cell_type": "code",
   "execution_count": null,
   "id": "5138b116-055a-49a0-974c-6b93c4f59bb4",
   "metadata": {},
   "outputs": [],
   "source": [
    "T9.index"
   ]
  }
 ],
 "metadata": {
  "kernelspec": {
   "display_name": "Python 3 (ipykernel)",
   "language": "python",
   "name": "python3"
  },
  "language_info": {
   "codemirror_mode": {
    "name": "ipython",
    "version": 3
   },
   "file_extension": ".py",
   "mimetype": "text/x-python",
   "name": "python",
   "nbconvert_exporter": "python",
   "pygments_lexer": "ipython3",
   "version": "3.12.4"
  }
 },
 "nbformat": 4,
 "nbformat_minor": 5
}
